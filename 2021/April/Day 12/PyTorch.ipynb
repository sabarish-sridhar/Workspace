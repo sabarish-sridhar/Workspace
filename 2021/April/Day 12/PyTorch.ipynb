{
 "cells": [
  {
   "cell_type": "code",
   "execution_count": 1,
   "metadata": {},
   "outputs": [
    {
     "name": "stdout",
     "output_type": "stream",
     "text": [
      "Collecting torch\n",
      "\u001b[?25l  Downloading https://files.pythonhosted.org/packages/44/51/f291c71b18398e32b0ce7cbb372608bdcc0bede5bef020ca8a064f37993b/torch-1.8.1-cp38-none-macosx_10_9_x86_64.whl (119.6MB)\n",
      "\u001b[K     |████████████████████████████████| 119.6MB 291kB/s eta 0:00:01     |█████████████████████████████   | 108.2MB 4.5MB/s eta 0:00:03\n",
      "\u001b[?25hCollecting torchvision\n",
      "\u001b[?25l  Downloading https://files.pythonhosted.org/packages/ad/8b/9b67843f3103c2f571913396cb208d10c34da777d31f2082ab62126ec34e/torchvision-0.9.1-cp38-cp38-macosx_10_9_x86_64.whl (13.2MB)\n",
      "\u001b[K     |████████████████████████████████| 13.2MB 206kB/s eta 0:00:01\n",
      "\u001b[?25hCollecting typing-extensions (from torch)\n",
      "  Using cached https://files.pythonhosted.org/packages/60/7a/e881b5abb54db0e6e671ab088d079c57ce54e8a01a3ca443f561ccadb37e/typing_extensions-3.7.4.3-py3-none-any.whl\n",
      "Requirement already satisfied: numpy in /Library/Frameworks/Python.framework/Versions/3.8/lib/python3.8/site-packages (from torch) (1.19.0)\n",
      "Collecting pillow>=4.1.1 (from torchvision)\n",
      "\u001b[?25l  Downloading https://files.pythonhosted.org/packages/f3/cf/5685930f76f0747f30eaa166f43943bf9b6d613e818b9d3b1dd0eccc8243/Pillow-8.2.0-cp38-cp38-macosx_10_10_x86_64.whl (2.8MB)\n",
      "\u001b[K     |████████████████████████████████| 2.8MB 343kB/s eta 0:00:01\n",
      "\u001b[?25hInstalling collected packages: typing-extensions, torch, pillow, torchvision\n",
      "Successfully installed pillow-8.2.0 torch-1.8.1 torchvision-0.9.1 typing-extensions-3.7.4.3\n",
      "\u001b[33mWARNING: You are using pip version 19.2.3, however version 21.0.1 is available.\n",
      "You should consider upgrading via the 'pip install --upgrade pip' command.\u001b[0m\n"
     ]
    }
   ],
   "source": [
    "!pip3 install torch torchvision"
   ]
  },
  {
   "cell_type": "code",
   "execution_count": null,
   "metadata": {},
   "outputs": [],
   "source": []
  }
 ],
 "metadata": {
  "kernelspec": {
   "display_name": "Python 3",
   "language": "python",
   "name": "python3"
  },
  "language_info": {
   "codemirror_mode": {
    "name": "ipython",
    "version": 3
   },
   "file_extension": ".py",
   "mimetype": "text/x-python",
   "name": "python",
   "nbconvert_exporter": "python",
   "pygments_lexer": "ipython3",
   "version": "3.7.6"
  }
 },
 "nbformat": 4,
 "nbformat_minor": 4
}
